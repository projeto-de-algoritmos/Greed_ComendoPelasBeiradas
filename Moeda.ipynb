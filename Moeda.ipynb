{
  "nbformat": 4,
  "nbformat_minor": 0,
  "metadata": {
    "colab": {
      "name": "Moeda.ipynb",
      "provenance": []
    },
    "kernelspec": {
      "name": "python3",
      "display_name": "Python 3"
    },
    "language_info": {
      "name": "python"
    }
  },
  "cells": [
    {
      "cell_type": "markdown",
      "source": [
        "Encontramos o seguinte código em um site (link) que falava sobre um jogo e o algoritmo ambicioso para sempre ganhar esse jogo:"
      ],
      "metadata": {
        "id": "7LUvKeiUmaO0"
      }
    },
    {
      "cell_type": "code",
      "source": [
        "# Python3 program to find coins\n",
        "# to be picked to make sure that\n",
        "# we never loose\n",
        " \n",
        "# Returns optimal value possible\n",
        "# that a player can collect from\n",
        "# an array of coins of size n.\n",
        "# Note than n must be even\n",
        "def printCoins(arr, n) :\n",
        " \n",
        "    oddSum = 0\n",
        "     \n",
        "    # Find sum of odd positioned coins\n",
        "    for i in range(0, n, 2) :\n",
        "        oddSum += arr[i]\n",
        " \n",
        "    evenSum = 0\n",
        "     \n",
        "    # Find sum of even\n",
        "    # positioned coins\n",
        "    for i in range(1, n, 2) :\n",
        "        evenSum += arr[i]\n",
        " \n",
        "    # Print even or odd\n",
        "    # coins depending upon\n",
        "    # which sum is greater.\n",
        "    if oddSum > evenSum :\n",
        "        start = 0\n",
        "    else :\n",
        "        start = 1\n",
        " \n",
        "    for i in range(start, n, 2) :\n",
        "        print(arr[i], end = \" \")\n",
        " \n",
        "# Driver code\n",
        "if __name__ == \"__main__\" :\n",
        "     \n",
        "    arr1 = [8, 15, 3, 7]\n",
        "    n = len(arr1)\n",
        "    printCoins(arr1, n)\n",
        "    print()\n",
        "     \n",
        "    arr2 = [2, 2, 2, 2]\n",
        "    n = len(arr2)\n",
        "    printCoins(arr2, n)\n",
        "    print()\n",
        "     \n",
        "    arr3 = [20, 30, 2, 2, 2, 10]\n",
        "    n = len(arr3)\n",
        "    printCoins(arr3, n)\n"
      ],
      "metadata": {
        "colab": {
          "base_uri": "https://localhost:8080/"
        },
        "id": "2TO_9N_KhaSX",
        "outputId": "c2592611-9220-4474-8266-761d3551895c"
      },
      "execution_count": null,
      "outputs": [
        {
          "output_type": "stream",
          "name": "stdout",
          "text": [
            "15 7 \n",
            "2 2 \n",
            "30 2 10 "
          ]
        }
      ]
    },
    {
      "cell_type": "markdown",
      "source": [
        "O código traz apenas a resposta ótima, mas não traz a implementação do jogo em si. Por isso, decidimos implementá-lo e utilizar o código encontrado para criar um adversário impossível de derrotar."
      ],
      "metadata": {
        "id": "1C6cwzW9m_2t"
      }
    }
  ]
}